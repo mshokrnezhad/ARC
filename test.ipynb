{
 "cells": [
  {
   "cell_type": "code",
   "execution_count": 1,
   "metadata": {},
   "outputs": [],
   "source": [
    "import arckit"
   ]
  },
  {
   "cell_type": "code",
   "execution_count": 2,
   "metadata": {},
   "outputs": [],
   "source": [
    "train_set, eval_set = arckit.load_data()"
   ]
  },
  {
   "cell_type": "code",
   "execution_count": 7,
   "metadata": {},
   "outputs": [
    {
     "name": "stdout",
     "output_type": "stream",
     "text": [
      "0 <Task-train 007bbfb7 | 5 train | 1 test>\n",
      "1 <Task-train 00d62c1b | 5 train | 1 test>\n",
      "2 <Task-train 017c7c7b | 3 train | 1 test>\n",
      "3 <Task-train 025d127b | 2 train | 1 test>\n",
      "4 <Task-train 045e512c | 3 train | 1 test>\n",
      "5 <Task-train 0520fde7 | 3 train | 1 test>\n",
      "6 <Task-train 05269061 | 3 train | 1 test>\n",
      "7 <Task-train 05f2a901 | 3 train | 1 test>\n",
      "8 <Task-train 06df4c85 | 3 train | 1 test>\n",
      "9 <Task-train 08ed6ac7 | 2 train | 1 test>\n"
     ]
    }
   ],
   "source": [
    "for i, task in enumerate(train_set[:10]):\n",
    "    print(i, task)"
   ]
  },
  {
   "cell_type": "code",
   "execution_count": 9,
   "metadata": {},
   "outputs": [
    {
     "name": "stdout",
     "output_type": "stream",
     "text": [
      "5 1\n"
     ]
    },
    {
     "data": {
      "text/plain": [
       "array([[0, 0, 0, 0, 0, 0],\n",
       "       [0, 0, 3, 0, 0, 0],\n",
       "       [0, 3, 0, 3, 0, 0],\n",
       "       [0, 0, 3, 0, 3, 0],\n",
       "       [0, 0, 0, 3, 0, 0],\n",
       "       [0, 0, 0, 0, 0, 0]])"
      ]
     },
     "execution_count": 9,
     "metadata": {},
     "output_type": "execute_result"
    }
   ],
   "source": [
    "task = arckit.load_single('00d62c1b') # You can also load tasks by ID\n",
    "print(len(task.train), len(task.test))\n",
    "\n",
    "task.train[0][0] # input\n",
    "\n",
    "# task.train[1][1] # output"
   ]
  },
  {
   "cell_type": "code",
   "execution_count": 6,
   "metadata": {},
   "outputs": [
    {
     "name": "stderr",
     "output_type": "stream",
     "text": [
      "/Users/mshokrnezhad/opt/anaconda3/envs/rag_llm/lib/python3.9/site-packages/arckit/vis.py:147: RuntimeWarning: divide by zero encountered in divide\n",
      "  allocation[incr] += increment / incr.sum()\n"
     ]
    }
   ],
   "source": [
    "for i, task in enumerate(train_set):\n",
    "    drawing = arckit.draw_task(task, width=20, height=12, include_test=True)\n",
    "    arckit.output_drawing(drawing, f\"arc_prize_2024/figs/train/taske{i}.svg\")"
   ]
  },
  {
   "cell_type": "code",
   "execution_count": null,
   "metadata": {},
   "outputs": [],
   "source": []
  }
 ],
 "metadata": {
  "kernelspec": {
   "display_name": "rag_llm",
   "language": "python",
   "name": "python3"
  },
  "language_info": {
   "codemirror_mode": {
    "name": "ipython",
    "version": 3
   },
   "file_extension": ".py",
   "mimetype": "text/x-python",
   "name": "python",
   "nbconvert_exporter": "python",
   "pygments_lexer": "ipython3",
   "version": "3.9.19"
  }
 },
 "nbformat": 4,
 "nbformat_minor": 2
}
