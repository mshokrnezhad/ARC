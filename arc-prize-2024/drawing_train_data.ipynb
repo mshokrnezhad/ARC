{
 "cells": [
  {
   "cell_type": "code",
   "execution_count": 7,
   "metadata": {},
   "outputs": [],
   "source": [
    "import sys\n",
    "sys.path.append(\"..\")\n",
    "from utils import load_json, extend_obj, draw_task, output_drawing\n",
    "data_path = 'data/'\n",
    "figs_path = 'figs/train/'"
   ]
  },
  {
   "cell_type": "code",
   "execution_count": null,
   "metadata": {},
   "outputs": [
    {
     "name": "stderr",
     "output_type": "stream",
     "text": [
      "/Users/mshokrnezhad/GitHub/ARC/arc-prize-2024/../utils.py:183: RuntimeWarning: divide by zero encountered in divide\n",
      "  allocation[incr] += increment / incr.sum()\n"
     ]
    }
   ],
   "source": [
    "# drawing all tasks\n",
    "\n",
    "training_challenges  = load_json(data_path + 'arc-agi_training_challenges.json')\n",
    "\n",
    "for i, id in enumerate(training_challenges):\n",
    "    train_task = training_challenges[id]\n",
    "    extended_train_task = extend_obj(train_task)\n",
    "    drawing = draw_task(extended_train_task, include_test=True)\n",
    "    output_drawing(drawing, f'{figs_path}train_task_{i}.png')\n"
   ]
  }
 ],
 "metadata": {
  "kernelspec": {
   "display_name": "rag_llm",
   "language": "python",
   "name": "python3"
  },
  "language_info": {
   "codemirror_mode": {
    "name": "ipython",
    "version": 3
   },
   "file_extension": ".py",
   "mimetype": "text/x-python",
   "name": "python",
   "nbconvert_exporter": "python",
   "pygments_lexer": "ipython3",
   "version": "3.9.19"
  }
 },
 "nbformat": 4,
 "nbformat_minor": 2
}
