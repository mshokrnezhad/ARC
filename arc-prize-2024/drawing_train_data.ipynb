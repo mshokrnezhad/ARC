{
 "cells": [
  {
   "cell_type": "code",
   "execution_count": 1,
   "metadata": {},
   "outputs": [],
   "source": [
    "import sys\n",
    "sys.path.append(\"..\")\n",
    "from tqdm import tqdm\n",
    "from utils import load_json, extend_obj, draw_task, output_drawing\n",
    "data_path = 'data/'\n",
    "figs_path = 'figs/train/'"
   ]
  },
  {
   "cell_type": "code",
   "execution_count": null,
   "metadata": {},
   "outputs": [],
   "source": [
    "# drawing all tasks\n",
    "\n",
    "training_challenges  = load_json(data_path + 'arc-agi_training_challenges.json')\n",
    "\n",
    "for i, id in tqdm(enumerate(training_challenges), total=len(training_challenges), desc=\"drawing original training tasks\"):\n",
    "    train_task = training_challenges[id]\n",
    "    drawing = draw_task(train_task, include_test=True)\n",
    "    output_drawing(drawing, f'{figs_path}original/train_task_{i}.png')\n"
   ]
  },
  {
   "cell_type": "code",
   "execution_count": null,
   "metadata": {},
   "outputs": [],
   "source": [
    "# drawing all tasks, extended\n",
    "\n",
    "training_challenges  = load_json(data_path + 'arc-agi_training_challenges.json')\n",
    "\n",
    "for i, id in tqdm(enumerate(training_challenges), total=len(training_challenges), desc=\"drawing extended training tasks\"):\n",
    "    train_task = training_challenges[id]\n",
    "    extended_train_task = extend_obj(train_task)\n",
    "    drawing = draw_task(extended_train_task, include_test=True)\n",
    "    output_drawing(drawing, f'{figs_path}/extended/extended_train_task_{i}.png')\n"
   ]
  }
 ],
 "metadata": {
  "kernelspec": {
   "display_name": "rag_llm",
   "language": "python",
   "name": "python3"
  },
  "language_info": {
   "codemirror_mode": {
    "name": "ipython",
    "version": 3
   },
   "file_extension": ".py",
   "mimetype": "text/x-python",
   "name": "python",
   "nbconvert_exporter": "python",
   "pygments_lexer": "ipython3",
   "version": "3.9.19"
  }
 },
 "nbformat": 4,
 "nbformat_minor": 2
}
