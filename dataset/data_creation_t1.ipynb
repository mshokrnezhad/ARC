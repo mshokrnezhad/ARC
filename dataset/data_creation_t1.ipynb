{
 "cells": [
  {
   "cell_type": "code",
   "execution_count": 1,
   "metadata": {},
   "outputs": [],
   "source": [
    "import sys\n",
    "sys.path.append(\"..\")\n",
    "import numpy as np\n",
    "from IPython.display import display, Image\n",
    "import drawsvg\n",
    "from utils import load_json, pretty_print_json, draw_task_v2, output_drawing, analyze_task\n",
    "from copy import deepcopy\n",
    "main_data_path = '../arc-prize-2024/'\n",
    "\n",
    "training_challenges  = load_json(main_data_path + 'data/arc-agi_training_challenges.json')\n",
    "training_solutions  = load_json(main_data_path + 'data/arc-agi_training_solutions.json')\n",
    "task_ids  = load_json(main_data_path + 'data/task_ids.json')"
   ]
  },
  {
   "cell_type": "code",
   "execution_count": 2,
   "metadata": {},
   "outputs": [],
   "source": [
    "from utils import store_json, update_task_ids, check_duplication\n",
    "\n",
    "data_path = 'data/t1.json'\n",
    "ids_path = 'data/t1_ids.json'\n",
    "figs_path = 'figs/t1/'"
   ]
  },
  {
   "cell_type": "code",
   "execution_count": null,
   "metadata": {},
   "outputs": [],
   "source": [
    "index = 0\n",
    "\n",
    "id = task_ids[f'{index}']\n",
    "task = deepcopy(training_challenges[id])\n",
    "\n",
    "if check_duplication(ids_path, id):\n",
    "    pass\n",
    "else:\n",
    "    print(f\"'{id}' exists in t1_ids.json.\")\n",
    "\n",
    "# pretty_print_json(train_task)\n",
    "# display(Image(filename=f'{data_path}figs/train/original/train_task_{index}.png')) "
   ]
  },
  {
   "cell_type": "code",
   "execution_count": 4,
   "metadata": {},
   "outputs": [],
   "source": [
    "from blocks import rotate_grid\n",
    "\n",
    "def transition(grid):\n",
    "    grid_ = deepcopy(grid)\n",
    "    grid_ = rotate_grid(grid_, 180) \n",
    "    \n",
    "    return grid_\n",
    "\n",
    "for item in task['train']:\n",
    "    item['output'] = transition(item['input'])\n",
    "    \n",
    "for item in task['test']:\n",
    "    item['output'] = transition(item['input'])"
   ]
  },
  {
   "cell_type": "code",
   "execution_count": 5,
   "metadata": {},
   "outputs": [
    {
     "name": "stdout",
     "output_type": "stream",
     "text": [
      "'007bbfb7' exists in t1_ids.json.\n"
     ]
    }
   ],
   "source": [
    "transition = {\n",
    "    '0': \n",
    "        {\n",
    "            'name': 'rotate_grid', \n",
    "            'input': ['grid', '180']\n",
    "        },\n",
    "}\n",
    "\n",
    "if check_duplication(ids_path, id):\n",
    "    store_json(id, transition, task, data_path)\n",
    "    update_task_ids(ids_path, id)\n",
    "\n",
    "    drawing = draw_task_v2(task, index, id, include_test=True)\n",
    "    output_drawing(drawing, f'{figs_path}{index}_{id}.png')\n",
    "\n",
    "    display(Image(filename=f'{figs_path}{index}_{id}.png')) \n",
    "else:\n",
    "    print(f\"'{id}' exists in t1_ids.json.\")"
   ]
  }
 ],
 "metadata": {
  "kernelspec": {
   "display_name": "rag_llm",
   "language": "python",
   "name": "python3"
  },
  "language_info": {
   "codemirror_mode": {
    "name": "ipython",
    "version": 3
   },
   "file_extension": ".py",
   "mimetype": "text/x-python",
   "name": "python",
   "nbconvert_exporter": "python",
   "pygments_lexer": "ipython3",
   "version": "3.9.19"
  }
 },
 "nbformat": 4,
 "nbformat_minor": 2
}
