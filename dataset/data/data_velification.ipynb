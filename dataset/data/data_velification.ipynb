{
 "cells": [
  {
   "cell_type": "markdown",
   "metadata": {},
   "source": [
    "# Managing t1_ids.json"
   ]
  },
  {
   "cell_type": "markdown",
   "metadata": {},
   "source": [
    "## Printing the file"
   ]
  },
  {
   "cell_type": "code",
   "execution_count": 17,
   "metadata": {},
   "outputs": [
    {
     "name": "stdout",
     "output_type": "stream",
     "text": [
      "Error decoding t1.json - file may be corrupted\n"
     ]
    }
   ],
   "source": [
    "import json\n",
    "\n",
    "def print_t1_ids_contents():\n",
    "    try:\n",
    "        with open('./t1_ids.json', 'r') as f:\n",
    "            t1_ids_data = json.load(f)\n",
    "            print(json.dumps(t1_ids_data, indent=4))\n",
    "    except FileNotFoundError:\n",
    "        print(\"t1.json not found\")\n",
    "    except json.JSONDecodeError:\n",
    "        print(\"Error decoding t1.json - file may be corrupted\")\n",
    "    except Exception as e:\n",
    "        print(f\"An error occurred while reading t1.json: {str(e)}\")\n",
    "\n",
    "# Example usage:\n",
    "print_t1_ids_contents()\n"
   ]
  },
  {
   "cell_type": "markdown",
   "metadata": {},
   "source": [
    "## Removing an index"
   ]
  },
  {
   "cell_type": "code",
   "execution_count": 16,
   "metadata": {},
   "outputs": [
    {
     "name": "stdout",
     "output_type": "stream",
     "text": [
      "Error decoding t1_ids.json - file may be corrupted\n"
     ]
    }
   ],
   "source": [
    "def remove_index(index_to_remove):\n",
    "    # Load the current JSON data\n",
    "    try:\n",
    "        with open('./t1_ids.json', 'r') as f:\n",
    "            t1_ids = json.load(f)\n",
    "    except FileNotFoundError:\n",
    "        print(\"t1_ids.json not found\")\n",
    "        return\n",
    "    except json.JSONDecodeError:\n",
    "        print(\"Error decoding t1_ids.json - file may be corrupted\") \n",
    "        return\n",
    "    except Exception as e:\n",
    "        print(f\"An error occurred while reading t1_ids.json: {str(e)}\")\n",
    "        return\n",
    "    \n",
    "    # Convert index to string since JSON keys are strings\n",
    "    str_index = str(index_to_remove)\n",
    "    \n",
    "    # Remove the index if it exists\n",
    "    if str_index in t1_ids:\n",
    "        del t1_ids[str_index]\n",
    "        \n",
    "        # Write the updated data back to file\n",
    "        with open('./t1_ids.json', 'w') as f:\n",
    "            json.dump(t1_ids, f, indent=4)\n",
    "        print(f\"Successfully removed index {index_to_remove}\")\n",
    "    else:\n",
    "        print(f\"Index {index_to_remove} not found in file\")\n",
    "\n",
    "# Example usage:\n",
    "remove_index(0)  # Removes index \"0\" and its corresponding value\n"
   ]
  },
  {
   "cell_type": "markdown",
   "metadata": {},
   "source": [
    "## Deleting the file"
   ]
  },
  {
   "cell_type": "code",
   "execution_count": 18,
   "metadata": {},
   "outputs": [
    {
     "name": "stdout",
     "output_type": "stream",
     "text": [
      "Successfully deleted t1_ids.json\n"
     ]
    }
   ],
   "source": [
    "import os\n",
    "\n",
    "def delete_t1_ids():\n",
    "    try:\n",
    "        os.remove('./t1_ids.json')\n",
    "        print(\"Successfully deleted t1_ids.json\")\n",
    "    except FileNotFoundError:\n",
    "        print(\"t1_ids.json not found\")\n",
    "    except PermissionError:\n",
    "        print(\"Permission denied - unable to delete t1_ids.json\")\n",
    "    except Exception as e:\n",
    "        print(f\"An error occurred while trying to delete t1_ids.json: {str(e)}\")\n",
    "\n",
    "# Example usage:\n",
    "delete_t1_ids()"
   ]
  },
  {
   "cell_type": "markdown",
   "metadata": {},
   "source": [
    "# Managing t1.json"
   ]
  },
  {
   "cell_type": "markdown",
   "metadata": {},
   "source": [
    "## Printing the file"
   ]
  },
  {
   "cell_type": "code",
   "execution_count": 24,
   "metadata": {},
   "outputs": [
    {
     "name": "stdout",
     "output_type": "stream",
     "text": [
      "t1.json not found\n"
     ]
    }
   ],
   "source": [
    "import json\n",
    "\n",
    "def print_t1_contents():\n",
    "    try:\n",
    "        with open('./t1.json', 'r') as f:\n",
    "            t1_data = json.load(f)\n",
    "            print(json.dumps(t1_data, indent=4))\n",
    "    except FileNotFoundError:\n",
    "        print(\"t1.json not found\")\n",
    "    except json.JSONDecodeError:\n",
    "        print(\"Error decoding t1.json - file may be corrupted\")\n",
    "    except Exception as e:\n",
    "        print(f\"An error occurred while reading t1.json: {str(e)}\")\n",
    "\n",
    "# Example usage:\n",
    "print_t1_contents()\n"
   ]
  },
  {
   "cell_type": "markdown",
   "metadata": {},
   "source": [
    "## Printing transitions"
   ]
  },
  {
   "cell_type": "code",
   "execution_count": 25,
   "metadata": {},
   "outputs": [
    {
     "name": "stdout",
     "output_type": "stream",
     "text": [
      "t1.json not found\n"
     ]
    }
   ],
   "source": [
    "def print_transitions(index=None):\n",
    "    try:\n",
    "        with open('./t1.json', 'r') as f:\n",
    "            t1_data = json.load(f)\n",
    "            \n",
    "        if index is not None:\n",
    "            # Print transitions for specific index\n",
    "            if index in t1_data:\n",
    "                transitions = t1_data[index].get('transition', {})\n",
    "                print(f\"Transitions for index {index}:\")\n",
    "                print(json.dumps(transitions, indent=4))\n",
    "            else:\n",
    "                print(f\"Index {index} not found in t1.json\")\n",
    "        else:\n",
    "            # Print all transitions\n",
    "            print(\"All transitions:\")\n",
    "            for idx, data in t1_data.items():\n",
    "                transitions = data.get('transition', {})\n",
    "                print(f\"\\nIndex: {idx}\")\n",
    "                print(json.dumps(transitions, indent=4))\n",
    "                \n",
    "    except FileNotFoundError:\n",
    "        print(\"t1.json not found\")\n",
    "    except json.JSONDecodeError:\n",
    "        print(\"Error decoding t1.json - file may be corrupted\")\n",
    "    except Exception as e:\n",
    "        print(f\"An error occurred while reading t1.json: {str(e)}\")\n",
    "\n",
    "# Example usage:\n",
    "# Print transitions for a specific index\n",
    "# print_transitions(\"007bbfb7\")\n",
    "\n",
    "# Print all transitions\n",
    "print_transitions()\n"
   ]
  },
  {
   "cell_type": "markdown",
   "metadata": {},
   "source": [
    "## Removing an index"
   ]
  },
  {
   "cell_type": "code",
   "execution_count": null,
   "metadata": {},
   "outputs": [],
   "source": [
    "def remove_index(index):\n",
    "    try:\n",
    "        # Read the current data\n",
    "        with open('./t1.json', 'r') as f:\n",
    "            t1_data = json.load(f)\n",
    "            \n",
    "        if index not in t1_data:\n",
    "            print(f\"Index {index} not found in t1.json\")\n",
    "            return False\n",
    "            \n",
    "        # Remove the index\n",
    "        del t1_data[index]\n",
    "        \n",
    "        # Write back the modified data\n",
    "        with open('./t1.json', 'w') as f:\n",
    "            json.dump(t1_data, f, indent=4)\n",
    "            \n",
    "        print(f\"Successfully removed index {index} from t1.json\")\n",
    "        return True\n",
    "        \n",
    "    except FileNotFoundError:\n",
    "        print(\"t1.json not found\")\n",
    "        return False\n",
    "    except json.JSONDecodeError:\n",
    "        print(\"Error decoding t1.json - file may be corrupted\")\n",
    "        return False\n",
    "    except Exception as e:\n",
    "        print(f\"An error occurred while modifying t1.json: {str(e)}\")\n",
    "        return False\n",
    "\n",
    "# Example usage:\n",
    "# remove_index(\"007bbfb7\")\n"
   ]
  },
  {
   "cell_type": "markdown",
   "metadata": {},
   "source": [
    "# Deleting the file"
   ]
  },
  {
   "cell_type": "code",
   "execution_count": 23,
   "metadata": {},
   "outputs": [
    {
     "name": "stdout",
     "output_type": "stream",
     "text": [
      "Successfully deleted t1.json\n"
     ]
    },
    {
     "data": {
      "text/plain": [
       "True"
      ]
     },
     "execution_count": 23,
     "metadata": {},
     "output_type": "execute_result"
    }
   ],
   "source": [
    "def delete_t1_json():\n",
    "    try:\n",
    "        # Check if file exists before attempting deletion\n",
    "        if os.path.exists('./t1.json'):\n",
    "            os.remove('./t1.json')\n",
    "            print(\"Successfully deleted t1.json\")\n",
    "            return True\n",
    "        else:\n",
    "            print(\"t1.json does not exist\")\n",
    "            return False\n",
    "            \n",
    "    except Exception as e:\n",
    "        print(f\"An error occurred while trying to delete t1.json: {str(e)}\")\n",
    "        return False\n",
    "\n",
    "# Example usage:\n",
    "delete_t1_json()\n"
   ]
  }
 ],
 "metadata": {
  "kernelspec": {
   "display_name": "rag_llm",
   "language": "python",
   "name": "python3"
  },
  "language_info": {
   "codemirror_mode": {
    "name": "ipython",
    "version": 3
   },
   "file_extension": ".py",
   "mimetype": "text/x-python",
   "name": "python",
   "nbconvert_exporter": "python",
   "pygments_lexer": "ipython3",
   "version": "3.9.19"
  }
 },
 "nbformat": 4,
 "nbformat_minor": 2
}
